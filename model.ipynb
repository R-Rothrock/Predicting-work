{
 "cells": [
  {
   "cell_type": "markdown",
   "metadata": {},
   "source": [
    "# model.ipynb\n",
    "---\n",
    "Look at `README.md` for more information."
   ]
  },
  {
   "cell_type": "markdown",
   "metadata": {},
   "source": [
    "IMPORTING THE NECESSARY MODULES\n",
    "---"
   ]
  },
  {
   "cell_type": "code",
   "execution_count": null,
   "metadata": {},
   "outputs": [],
   "source": [
    "import pandas as pd\n",
    "import tensorflow as tf\n",
    "import tensorflow.compat.v2.feature_column as fc"
   ]
  },
  {
   "cell_type": "markdown",
   "metadata": {},
   "source": [
    "DEFINING INPUT FUNCTION\n",
    "---"
   ]
  },
  {
   "cell_type": "code",
   "execution_count": 2,
   "metadata": {},
   "outputs": [],
   "source": [
    "def get_input_fn(data_df, label_df, *, nr_epochs=1,\n",
    "                 shuffle=True, batch_size=32):\n",
    "    def input_fn():\n",
    "        data = tf.data.Dataset.from_tensor_slices((dict(data_df), label_df))\n",
    "        if shuffle: data = data.shuffle(512)\n",
    "        data = data.batch(batch_size).repeat(nr_epochs)\n",
    "        return data\n",
    "    return input_fn"
   ]
  },
  {
   "cell_type": "markdown",
   "metadata": {},
   "source": [
    "GETTING DATA\n",
    "---"
   ]
  },
  {
   "cell_type": "code",
   "execution_count": 3,
   "metadata": {},
   "outputs": [],
   "source": [
    "# https://xkcd.com/2582/\n",
    "\n",
    "dftrain = pd.read_csv('./input_data.csv')\n",
    "dfeval  = pd.read_csv('./test_data.csv')\n",
    "\n",
    "# separate the training variables from the datasets\n",
    "y_train = dftrain.pop('work')\n",
    "y_eval  = dfeval.pop('work')\n",
    "\n",
    "#print(dftrain.dtypes)\n",
    "#print(dfeval.dtypes)\n"
   ]
  },
  {
   "cell_type": "markdown",
   "metadata": {},
   "source": [
    "POPULATING FEATURE COLUMNS\n",
    "---"
   ]
  },
  {
   "cell_type": "code",
   "execution_count": 4,
   "metadata": {},
   "outputs": [],
   "source": [
    "CATEGORICAL_COLUMNS = [\"day_of_week\"]\n",
    "NUMERIC_COLUMNS    = [\n",
    "    \"month\",\n",
    "    \"day\",\n",
    "    \"holiday\"\n",
    "]\n",
    "\n",
    "feature_columns = list()\n",
    "\n",
    "for feature_name in CATEGORICAL_COLUMNS:\n",
    "    vocab = dftrain[feature_name].unique()\n",
    "    feature_columns.append(\n",
    "        tf.feature_column.categorical_column_with_vocabulary_list(\n",
    "            feature_name, vocab))\n",
    "\n",
    "for feature_name in NUMERIC_COLUMNS:\n",
    "    feature_columns.append(\n",
    "        tf.feature_column.numeric_column(\n",
    "            feature_name, dtype=tf.float32))"
   ]
  },
  {
   "cell_type": "markdown",
   "metadata": {},
   "source": [
    "MODEL INITIALIZATION, TRAINING, AND EVALUATING\n",
    "---"
   ]
  },
  {
   "cell_type": "code",
   "execution_count": null,
   "metadata": {},
   "outputs": [],
   "source": [
    "train_input_fn = get_input_fn(dftrain, y_train, nr_epochs=1, shuffle=True)\n",
    "eval_input_fn  = get_input_fn(dfeval, y_eval, nr_epochs=1, shuffle=False)\n",
    "\n",
    "# using rudimentary linear regression model in tensorflow\n",
    "linear_est = tf.estimator.LinearClassifier(feature_columns=feature_columns)\n",
    "\n",
    "loss_by_epoch   = list()\n",
    "current_loss    = 1.0\n",
    "acceptable_loss = 0.1\n",
    "\n",
    "while current_loss > acceptable_loss:\n",
    "    linear_est.train(train_input_fn)\n",
    "    result = linear_est.evaluate(eval_input_fn)\n",
    "    current_loss = result['loss']\n",
    "    loss_by_epoch.append(current_loss)"
   ]
  },
  {
   "cell_type": "markdown",
   "metadata": {},
   "source": [
    "VISUALIZING LOSS BY EPOCH\n",
    "---"
   ]
  },
  {
   "cell_type": "code",
   "execution_count": null,
   "metadata": {},
   "outputs": [],
   "source": [
    "#print(loss_by_epoch)\n",
    "\n",
    "import matplotlib.pyplot as plt\n",
    "\n",
    "y = [i * 100 for i in loss_by_epoch]\n",
    "x = range(0, len(loss_by_epoch))\n",
    "\n",
    "plt.plot(x,y)\n",
    "plt.title('Total Loss')\n",
    "plt.xlabel('Epoch')\n",
    "plt.ylabel('Loss (%)')\n",
    "plt.show()\n"
   ]
  },
  {
   "cell_type": "markdown",
   "metadata": {},
   "source": [
    "PREDICTING WORK WITH SPECIFIC DATA\n",
    "---"
   ]
  },
  {
   "cell_type": "code",
   "execution_count": null,
   "metadata": {},
   "outputs": [],
   "source": [
    "# working on it"
   ]
  }
 ],
 "metadata": {
  "kernelspec": {
   "display_name": "Python 3 (ipykernel)",
   "language": "python",
   "name": "python3"
  },
  "language_info": {
   "codemirror_mode": {
    "name": "ipython",
    "version": 3
   },
   "file_extension": ".py",
   "mimetype": "text/x-python",
   "name": "python",
   "nbconvert_exporter": "python",
   "pygments_lexer": "ipython3",
   "version": "3.10.4"
  }
 },
 "nbformat": 4,
 "nbformat_minor": 4
}
